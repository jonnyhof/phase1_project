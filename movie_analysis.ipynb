{
 "cells": [
  {
   "cell_type": "markdown",
   "metadata": {},
   "source": [
    "# Microsoft Movie Studio Project\n",
    "\n",
    "**Author**: Jonny Hofmeister\n",
    "\n",
    "## Overview\n",
    "\n",
    "This project explores movie data from IMDB and Box Office Mojo to generate business insights for a new movie studio.\n",
    "\n",
    "## Business Problem\n",
    "\n",
    "Microsoft has decided to enter the movie production industry and create a new movie studio, but they want some advice. This project asks and analyzes which types of films are doing best at the box office, and the results will inform decisions and actions Microsoft's studio can take to create successful production company and films.\n",
    "\n",
    "<img src=\"./images/studio.jpeg\" width=\"700\"/>\n",
    "\n",
    "## Data Understanding\n",
    "\n",
    "Box Office Mojo (BOM) is a webside run by IMDB that reports and organizes box office receipts from Movies. The essential data being pulled from this source is a Domestic and Foreign Gross for correspoding movies identified by a title. \n",
    "\n",
    "IMDB is a webside containing extensive details about individual movies. The datasets contain information like titles, year released, runtime, production, persons involed (actors, diretors, etc), and importantly, review data associated with each movie. \n",
    "\n",
    "We are given access to more sets of data, but for simplicity and consistency, this analysis will focus on a dataset created from the combination of these two sources."
   ]
  },
  {
   "cell_type": "markdown",
   "metadata": {},
   "source": [
    "### Import necessary packages"
   ]
  },
  {
   "cell_type": "code",
   "execution_count": 61,
   "metadata": {},
   "outputs": [],
   "source": [
    "import numpy as np\n",
    "import pandas as pd\n",
    "\n",
    "import matplotlib.pyplot as plt\n",
    "import matplotlib as mp\n",
    "import seaborn as sns\n",
    "\n",
    "from fuzzywuzzy import process, fuzz"
   ]
  },
  {
   "cell_type": "code",
   "execution_count": 62,
   "metadata": {},
   "outputs": [],
   "source": [
    "# Filtering warnings to exclude unwanted output\n",
    "\n",
    "import warnings\n",
    "warnings.simplefilter(action='ignore', category=FutureWarning)"
   ]
  },
  {
   "cell_type": "markdown",
   "metadata": {},
   "source": [
    "## Import Data"
   ]
  },
  {
   "cell_type": "code",
   "execution_count": 63,
   "metadata": {},
   "outputs": [],
   "source": [
    "# Load .CSV data using into DataFrames using Pandas\n",
    "\n",
    "bom = pd.read_csv('data/bom.movie_gross.csv')\n",
    "imdb_basics = pd.read_csv('data/imdb.title.basics.csv')\n",
    "imdb_ratings = pd.read_csv('data/imdb.title.ratings.csv')"
   ]
  },
  {
   "cell_type": "code",
   "execution_count": 64,
   "metadata": {},
   "outputs": [
    {
     "data": {
      "text/html": [
       "<div>\n",
       "<style scoped>\n",
       "    .dataframe tbody tr th:only-of-type {\n",
       "        vertical-align: middle;\n",
       "    }\n",
       "\n",
       "    .dataframe tbody tr th {\n",
       "        vertical-align: top;\n",
       "    }\n",
       "\n",
       "    .dataframe thead th {\n",
       "        text-align: right;\n",
       "    }\n",
       "</style>\n",
       "<table border=\"1\" class=\"dataframe\">\n",
       "  <thead>\n",
       "    <tr style=\"text-align: right;\">\n",
       "      <th></th>\n",
       "      <th>tconst</th>\n",
       "      <th>primary_title</th>\n",
       "      <th>original_title</th>\n",
       "      <th>start_year</th>\n",
       "      <th>runtime_minutes</th>\n",
       "      <th>genres</th>\n",
       "    </tr>\n",
       "  </thead>\n",
       "  <tbody>\n",
       "    <tr>\n",
       "      <th>0</th>\n",
       "      <td>tt0063540</td>\n",
       "      <td>Sunghursh</td>\n",
       "      <td>Sunghursh</td>\n",
       "      <td>2013</td>\n",
       "      <td>175.0</td>\n",
       "      <td>Action,Crime,Drama</td>\n",
       "    </tr>\n",
       "    <tr>\n",
       "      <th>1</th>\n",
       "      <td>tt0066787</td>\n",
       "      <td>One Day Before the Rainy Season</td>\n",
       "      <td>Ashad Ka Ek Din</td>\n",
       "      <td>2019</td>\n",
       "      <td>114.0</td>\n",
       "      <td>Biography,Drama</td>\n",
       "    </tr>\n",
       "  </tbody>\n",
       "</table>\n",
       "</div>"
      ],
      "text/plain": [
       "      tconst                    primary_title   original_title  start_year  \\\n",
       "0  tt0063540                        Sunghursh        Sunghursh        2013   \n",
       "1  tt0066787  One Day Before the Rainy Season  Ashad Ka Ek Din        2019   \n",
       "\n",
       "   runtime_minutes              genres  \n",
       "0            175.0  Action,Crime,Drama  \n",
       "1            114.0     Biography,Drama  "
      ]
     },
     "execution_count": 64,
     "metadata": {},
     "output_type": "execute_result"
    }
   ],
   "source": [
    "# First check out how the IMDB_basics data is organized\n",
    "\n",
    "imdb_basics.head(2)"
   ]
  },
  {
   "cell_type": "code",
   "execution_count": 65,
   "metadata": {},
   "outputs": [
    {
     "name": "stdout",
     "output_type": "stream",
     "text": [
      "<class 'pandas.core.frame.DataFrame'>\n",
      "RangeIndex: 146144 entries, 0 to 146143\n",
      "Data columns (total 6 columns):\n",
      " #   Column           Non-Null Count   Dtype  \n",
      "---  ------           --------------   -----  \n",
      " 0   tconst           146144 non-null  object \n",
      " 1   primary_title    146144 non-null  object \n",
      " 2   original_title   146123 non-null  object \n",
      " 3   start_year       146144 non-null  int64  \n",
      " 4   runtime_minutes  114405 non-null  float64\n",
      " 5   genres           140736 non-null  object \n",
      "dtypes: float64(1), int64(1), object(4)\n",
      "memory usage: 6.7+ MB\n"
     ]
    }
   ],
   "source": [
    "imdb_basics.info()"
   ]
  },
  {
   "cell_type": "code",
   "execution_count": 66,
   "metadata": {},
   "outputs": [
    {
     "data": {
      "text/html": [
       "<div>\n",
       "<style scoped>\n",
       "    .dataframe tbody tr th:only-of-type {\n",
       "        vertical-align: middle;\n",
       "    }\n",
       "\n",
       "    .dataframe tbody tr th {\n",
       "        vertical-align: top;\n",
       "    }\n",
       "\n",
       "    .dataframe thead th {\n",
       "        text-align: right;\n",
       "    }\n",
       "</style>\n",
       "<table border=\"1\" class=\"dataframe\">\n",
       "  <thead>\n",
       "    <tr style=\"text-align: right;\">\n",
       "      <th></th>\n",
       "      <th>tconst</th>\n",
       "      <th>averagerating</th>\n",
       "      <th>numvotes</th>\n",
       "    </tr>\n",
       "  </thead>\n",
       "  <tbody>\n",
       "    <tr>\n",
       "      <th>0</th>\n",
       "      <td>tt10356526</td>\n",
       "      <td>8.3</td>\n",
       "      <td>31</td>\n",
       "    </tr>\n",
       "    <tr>\n",
       "      <th>1</th>\n",
       "      <td>tt10384606</td>\n",
       "      <td>8.9</td>\n",
       "      <td>559</td>\n",
       "    </tr>\n",
       "  </tbody>\n",
       "</table>\n",
       "</div>"
      ],
      "text/plain": [
       "       tconst  averagerating  numvotes\n",
       "0  tt10356526            8.3        31\n",
       "1  tt10384606            8.9       559"
      ]
     },
     "execution_count": 66,
     "metadata": {},
     "output_type": "execute_result"
    }
   ],
   "source": [
    "# Now take a peek at the IMDB_ratings dataset\n",
    "\n",
    "imdb_ratings.head(2)"
   ]
  },
  {
   "cell_type": "code",
   "execution_count": 67,
   "metadata": {},
   "outputs": [
    {
     "name": "stdout",
     "output_type": "stream",
     "text": [
      "<class 'pandas.core.frame.DataFrame'>\n",
      "RangeIndex: 73856 entries, 0 to 73855\n",
      "Data columns (total 3 columns):\n",
      " #   Column         Non-Null Count  Dtype  \n",
      "---  ------         --------------  -----  \n",
      " 0   tconst         73856 non-null  object \n",
      " 1   averagerating  73856 non-null  float64\n",
      " 2   numvotes       73856 non-null  int64  \n",
      "dtypes: float64(1), int64(1), object(1)\n",
      "memory usage: 1.7+ MB\n"
     ]
    }
   ],
   "source": [
    "imdb_ratings.info()"
   ]
  },
  {
   "cell_type": "markdown",
   "metadata": {},
   "source": [
    "### Data exploration\n",
    "\n",
    "The IMDB Basics table includes essential information like movie titles and the genres they are associated with. The genres are stored in a single string, and each movie contains up to 3 associated genres. The data set contains 146,000 movies, quite a significant amount.\n",
    "\n",
    "The IMDB Ratings table contains information on the movies average rating and the number of rating votes cast for that movie. The number of review movies is about 74000, about half that of the basics datatable, but still a very large amount, more than enough to work with. Movies that don't have ratings are also likely to be smaller, less-known or viewed and therefore less interesting to us from an analysis perspective as well.\n",
    "\n",
    "We can see that both datasets include a column called 'tconst' which appears to be a unique identifier for each movie. This will work perfect to join both data tables. First lets check that 'tconst' is indeed unique and contains no duplicates."
   ]
  },
  {
   "cell_type": "code",
   "execution_count": 68,
   "metadata": {},
   "outputs": [
    {
     "data": {
      "text/plain": [
       "False    146144\n",
       "Name: tconst, dtype: int64"
      ]
     },
     "execution_count": 68,
     "metadata": {},
     "output_type": "execute_result"
    }
   ],
   "source": [
    "imdb_basics.tconst.duplicated().value_counts()"
   ]
  },
  {
   "cell_type": "markdown",
   "metadata": {},
   "source": [
    "Perfect, 'tconst' is a unique identifier that contains no duplicates. This will work as the perfect index to join these two dataframes when the time comes.\n",
    "\n",
    "Next let's get aquianted with the Box Office Mojo (BOM) data."
   ]
  },
  {
   "cell_type": "code",
   "execution_count": 69,
   "metadata": {},
   "outputs": [
    {
     "data": {
      "text/html": [
       "<div>\n",
       "<style scoped>\n",
       "    .dataframe tbody tr th:only-of-type {\n",
       "        vertical-align: middle;\n",
       "    }\n",
       "\n",
       "    .dataframe tbody tr th {\n",
       "        vertical-align: top;\n",
       "    }\n",
       "\n",
       "    .dataframe thead th {\n",
       "        text-align: right;\n",
       "    }\n",
       "</style>\n",
       "<table border=\"1\" class=\"dataframe\">\n",
       "  <thead>\n",
       "    <tr style=\"text-align: right;\">\n",
       "      <th></th>\n",
       "      <th>title</th>\n",
       "      <th>studio</th>\n",
       "      <th>domestic_gross</th>\n",
       "      <th>foreign_gross</th>\n",
       "      <th>year</th>\n",
       "    </tr>\n",
       "  </thead>\n",
       "  <tbody>\n",
       "    <tr>\n",
       "      <th>0</th>\n",
       "      <td>Toy Story 3</td>\n",
       "      <td>BV</td>\n",
       "      <td>415000000.0</td>\n",
       "      <td>652000000</td>\n",
       "      <td>2010</td>\n",
       "    </tr>\n",
       "    <tr>\n",
       "      <th>1</th>\n",
       "      <td>Alice in Wonderland (2010)</td>\n",
       "      <td>BV</td>\n",
       "      <td>334200000.0</td>\n",
       "      <td>691300000</td>\n",
       "      <td>2010</td>\n",
       "    </tr>\n",
       "  </tbody>\n",
       "</table>\n",
       "</div>"
      ],
      "text/plain": [
       "                        title studio  domestic_gross foreign_gross  year\n",
       "0                 Toy Story 3     BV     415000000.0     652000000  2010\n",
       "1  Alice in Wonderland (2010)     BV     334200000.0     691300000  2010"
      ]
     },
     "execution_count": 69,
     "metadata": {},
     "output_type": "execute_result"
    }
   ],
   "source": [
    "bom.head(2)"
   ]
  },
  {
   "cell_type": "code",
   "execution_count": 70,
   "metadata": {},
   "outputs": [
    {
     "name": "stdout",
     "output_type": "stream",
     "text": [
      "<class 'pandas.core.frame.DataFrame'>\n",
      "RangeIndex: 3387 entries, 0 to 3386\n",
      "Data columns (total 5 columns):\n",
      " #   Column          Non-Null Count  Dtype  \n",
      "---  ------          --------------  -----  \n",
      " 0   title           3387 non-null   object \n",
      " 1   studio          3382 non-null   object \n",
      " 2   domestic_gross  3359 non-null   float64\n",
      " 3   foreign_gross   2037 non-null   object \n",
      " 4   year            3387 non-null   int64  \n",
      "dtypes: float64(1), int64(1), object(3)\n",
      "memory usage: 132.4+ KB\n"
     ]
    }
   ],
   "source": [
    "bom.info()"
   ]
  },
  {
   "cell_type": "markdown",
   "metadata": {},
   "source": [
    "BOM contains the very important gross information we are interested in for each movie title, as well as the year released, which will come in handy. The dataset is about 3300 movies, much smaller than the IMDB data. While we can't work with a gigantic set of movies anymore, a few thousand of the most important films still should be enough to glean some information on which movies have been most sucessful. I am going to explore success of movies though gross and also through rating, but when giving advice to Microsoft in building their studio, the more important information is the gross and how much money the movie made. "
   ]
  },
  {
   "cell_type": "markdown",
   "metadata": {},
   "source": [
    "## Data Preparation\n",
    "\n",
    "We have a few items on the list to get the data ready to extract the information we want into figures. This includes cleaning the 'genres' column into something more useful than a string; merging the two IMDB dataframes on the 'tconst' index; and joining those to the BOM dataset by matching titles.\n",
    "\n",
    "Matching titles could be done through cleaning methods like, making everything lowercase, removing punctuation, adding a year to the title, and then joining to hopefully get more correct matches. Instead of this, I have opted to utilize the FuzzyWuzzy package which applies the Levenshtein distance formula among other techniques to match string, returning the best match and a value rating how similar Fuzzy thinks the two strings are (value between 0 and 100). "
   ]
  },
  {
   "cell_type": "markdown",
   "metadata": {},
   "source": [
    "### Fuzzy matching\n",
    "\n",
    "The script I have created to match BOM movie titles with IMDB movie titles is included in a separate .ipynb file for certain reasons. The main one being that the advanced searching algorithm took about an hour to run. For the sake of running this analysis notebook in its entirety, I have done this separately. \n",
    "\n",
    "Please refer to the bom_fuzzy.ipynb file for details on how this was done. At the end of the fuzzy script, I have saved the BOM dataframe, which includes matched titles, to a new .CSV file which I will import below and continue cleaning and merging. As the /data folder is ignored by my git repo, this .csv file in located in the home folder of the phase1_project repository."
   ]
  },
  {
   "cell_type": "code",
   "execution_count": 71,
   "metadata": {},
   "outputs": [],
   "source": [
    "# Let's take a peek at what these matches look like\n",
    "\n",
    "bom_fuzzy_matches = pd.read_csv('bom_fuzzy_matches.csv')"
   ]
  },
  {
   "cell_type": "code",
   "execution_count": 72,
   "metadata": {},
   "outputs": [
    {
     "data": {
      "text/html": [
       "<div>\n",
       "<style scoped>\n",
       "    .dataframe tbody tr th:only-of-type {\n",
       "        vertical-align: middle;\n",
       "    }\n",
       "\n",
       "    .dataframe tbody tr th {\n",
       "        vertical-align: top;\n",
       "    }\n",
       "\n",
       "    .dataframe thead th {\n",
       "        text-align: right;\n",
       "    }\n",
       "</style>\n",
       "<table border=\"1\" class=\"dataframe\">\n",
       "  <thead>\n",
       "    <tr style=\"text-align: right;\">\n",
       "      <th></th>\n",
       "      <th>title</th>\n",
       "      <th>studio</th>\n",
       "      <th>domestic_gross</th>\n",
       "      <th>foreign_gross</th>\n",
       "      <th>year</th>\n",
       "      <th>matched_title</th>\n",
       "      <th>similarity</th>\n",
       "    </tr>\n",
       "  </thead>\n",
       "  <tbody>\n",
       "    <tr>\n",
       "      <th>0</th>\n",
       "      <td>Toy Story 3 2010</td>\n",
       "      <td>BV</td>\n",
       "      <td>415000000.0</td>\n",
       "      <td>652000000</td>\n",
       "      <td>2010</td>\n",
       "      <td>Toy Story 3 2010</td>\n",
       "      <td>100</td>\n",
       "    </tr>\n",
       "    <tr>\n",
       "      <th>1</th>\n",
       "      <td>Alice in Wonderland (2010) 2010</td>\n",
       "      <td>BV</td>\n",
       "      <td>334200000.0</td>\n",
       "      <td>691300000</td>\n",
       "      <td>2010</td>\n",
       "      <td>Alice in Wonderland 2010</td>\n",
       "      <td>87</td>\n",
       "    </tr>\n",
       "    <tr>\n",
       "      <th>2</th>\n",
       "      <td>Harry Potter and the Deathly Hallows Part 1 2010</td>\n",
       "      <td>WB</td>\n",
       "      <td>296000000.0</td>\n",
       "      <td>664300000</td>\n",
       "      <td>2010</td>\n",
       "      <td>Harry Potter and the Deathly Hallows: Part 1 2010</td>\n",
       "      <td>99</td>\n",
       "    </tr>\n",
       "    <tr>\n",
       "      <th>3</th>\n",
       "      <td>Inception 2010</td>\n",
       "      <td>WB</td>\n",
       "      <td>292600000.0</td>\n",
       "      <td>535700000</td>\n",
       "      <td>2010</td>\n",
       "      <td>Inception 2010</td>\n",
       "      <td>100</td>\n",
       "    </tr>\n",
       "    <tr>\n",
       "      <th>4</th>\n",
       "      <td>Shrek Forever After 2010</td>\n",
       "      <td>P/DW</td>\n",
       "      <td>238700000.0</td>\n",
       "      <td>513900000</td>\n",
       "      <td>2010</td>\n",
       "      <td>Shrek Forever After 2010</td>\n",
       "      <td>100</td>\n",
       "    </tr>\n",
       "  </tbody>\n",
       "</table>\n",
       "</div>"
      ],
      "text/plain": [
       "                                              title studio  domestic_gross  \\\n",
       "0                                  Toy Story 3 2010     BV     415000000.0   \n",
       "1                   Alice in Wonderland (2010) 2010     BV     334200000.0   \n",
       "2  Harry Potter and the Deathly Hallows Part 1 2010     WB     296000000.0   \n",
       "3                                    Inception 2010     WB     292600000.0   \n",
       "4                          Shrek Forever After 2010   P/DW     238700000.0   \n",
       "\n",
       "  foreign_gross  year                                      matched_title  \\\n",
       "0     652000000  2010                                   Toy Story 3 2010   \n",
       "1     691300000  2010                           Alice in Wonderland 2010   \n",
       "2     664300000  2010  Harry Potter and the Deathly Hallows: Part 1 2010   \n",
       "3     535700000  2010                                     Inception 2010   \n",
       "4     513900000  2010                           Shrek Forever After 2010   \n",
       "\n",
       "   similarity  \n",
       "0         100  \n",
       "1          87  \n",
       "2          99  \n",
       "3         100  \n",
       "4         100  "
      ]
     },
     "execution_count": 72,
     "metadata": {},
     "output_type": "execute_result"
    }
   ],
   "source": [
    "bom_fuzzy_matches.head()"
   ]
  },
  {
   "cell_type": "code",
   "execution_count": 73,
   "metadata": {},
   "outputs": [
    {
     "name": "stdout",
     "output_type": "stream",
     "text": [
      "<class 'pandas.core.frame.DataFrame'>\n",
      "RangeIndex: 3387 entries, 0 to 3386\n",
      "Data columns (total 7 columns):\n",
      " #   Column          Non-Null Count  Dtype  \n",
      "---  ------          --------------  -----  \n",
      " 0   title           3387 non-null   object \n",
      " 1   studio          3382 non-null   object \n",
      " 2   domestic_gross  3359 non-null   float64\n",
      " 3   foreign_gross   2037 non-null   object \n",
      " 4   year            3387 non-null   int64  \n",
      " 5   matched_title   3387 non-null   object \n",
      " 6   similarity      3387 non-null   int64  \n",
      "dtypes: float64(1), int64(2), object(4)\n",
      "memory usage: 185.4+ KB\n"
     ]
    }
   ],
   "source": [
    "bom_fuzzy_matches.info()"
   ]
  },
  {
   "cell_type": "markdown",
   "metadata": {},
   "source": [
    "Here in the matched dataframe, we still have the 'title' column which is the same as the titles in the original BOM data, the corresponding gross data and year. The two last columns are new. 'matched_title' is the title from the IMDB dataset that Fuzzy found to be most similar, as well as the similarity rating returned by the matching algorithm. We can filter the data by using this 'similarity' to include only matches we know Fuzzy is certain are the same. \n",
    "\n",
    "It is also important to note that the title and matched_title columns were updated before the matching process to include the year released after the title. This helped improve matching success. I would leave the years in there, as we wont be plotting by movie title, but in order to join this DataFrame with imdb_basics, I will have to remove the year in order to match the titles properly.\n",
    "\n",
    "Another important note: As this was completely a few days ago, BOM and imdb_basics was fuzzy matched before I did any manipulation to the IMDB datasets. In the future I would do this in the opposite order. For example, first joining the imdb_basics and imdb_ratings would cut the size of our data in half, which in turn would reduce the Fuzzy matching runtime by about half. Given this still takes a while to re-run, and I have already saved the new .csv matching file, I will just continue to clean the data from here. We will end up with the same data in the end, but be aware this could have been done in a different order to improve efficiency. "
   ]
  },
  {
   "cell_type": "markdown",
   "metadata": {},
   "source": [
    "#### Before joining BOM and IMDB.....\n",
    "I will join and clean the imdb_basics and imdb_ratings dataset, including cleaning the genres column to create a list of genres and a column for each with a True/False binary value to determine if the movie is in that genre. This will make selecting movies where a specific genre == True very simple.\n",
    "\n",
    "I am also doing this before the BOM megre because that merge will decrease our dataset to only 3000 rows. I may also be interested in exploring the ratings of all IMDB moives without the BOM gross data. So first create a merged set of Basics and Ratings that inlcudes rating and genre information for 70k movies. Then this Dataframe is what I will join with the BOM fuzzy matches. This allows for slightly more flexibility in the size of the dataset while doing analysis and exploration. "
   ]
  },
  {
   "cell_type": "code",
   "execution_count": 74,
   "metadata": {},
   "outputs": [],
   "source": [
    "# First identify the index column for the merge, in this case it is the 'tconst' ID.\n",
    "\n",
    "imdb_basics.set_index('tconst', inplace=True)\n",
    "imdb_ratings.set_index('tconst', inplace=True)"
   ]
  },
  {
   "cell_type": "code",
   "execution_count": 75,
   "metadata": {
    "scrolled": true
   },
   "outputs": [
    {
     "data": {
      "text/html": [
       "<div>\n",
       "<style scoped>\n",
       "    .dataframe tbody tr th:only-of-type {\n",
       "        vertical-align: middle;\n",
       "    }\n",
       "\n",
       "    .dataframe tbody tr th {\n",
       "        vertical-align: top;\n",
       "    }\n",
       "\n",
       "    .dataframe thead th {\n",
       "        text-align: right;\n",
       "    }\n",
       "</style>\n",
       "<table border=\"1\" class=\"dataframe\">\n",
       "  <thead>\n",
       "    <tr style=\"text-align: right;\">\n",
       "      <th></th>\n",
       "      <th>primary_title</th>\n",
       "      <th>original_title</th>\n",
       "      <th>start_year</th>\n",
       "      <th>runtime_minutes</th>\n",
       "      <th>genres</th>\n",
       "      <th>averagerating</th>\n",
       "      <th>numvotes</th>\n",
       "    </tr>\n",
       "    <tr>\n",
       "      <th>tconst</th>\n",
       "      <th></th>\n",
       "      <th></th>\n",
       "      <th></th>\n",
       "      <th></th>\n",
       "      <th></th>\n",
       "      <th></th>\n",
       "      <th></th>\n",
       "    </tr>\n",
       "  </thead>\n",
       "  <tbody>\n",
       "    <tr>\n",
       "      <th>tt0063540</th>\n",
       "      <td>Sunghursh</td>\n",
       "      <td>Sunghursh</td>\n",
       "      <td>2013</td>\n",
       "      <td>175.0</td>\n",
       "      <td>Action,Crime,Drama</td>\n",
       "      <td>7.0</td>\n",
       "      <td>77</td>\n",
       "    </tr>\n",
       "    <tr>\n",
       "      <th>tt0066787</th>\n",
       "      <td>One Day Before the Rainy Season</td>\n",
       "      <td>Ashad Ka Ek Din</td>\n",
       "      <td>2019</td>\n",
       "      <td>114.0</td>\n",
       "      <td>Biography,Drama</td>\n",
       "      <td>7.2</td>\n",
       "      <td>43</td>\n",
       "    </tr>\n",
       "    <tr>\n",
       "      <th>tt0069049</th>\n",
       "      <td>The Other Side of the Wind</td>\n",
       "      <td>The Other Side of the Wind</td>\n",
       "      <td>2018</td>\n",
       "      <td>122.0</td>\n",
       "      <td>Drama</td>\n",
       "      <td>6.9</td>\n",
       "      <td>4517</td>\n",
       "    </tr>\n",
       "    <tr>\n",
       "      <th>tt0069204</th>\n",
       "      <td>Sabse Bada Sukh</td>\n",
       "      <td>Sabse Bada Sukh</td>\n",
       "      <td>2018</td>\n",
       "      <td>NaN</td>\n",
       "      <td>Comedy,Drama</td>\n",
       "      <td>6.1</td>\n",
       "      <td>13</td>\n",
       "    </tr>\n",
       "    <tr>\n",
       "      <th>tt0100275</th>\n",
       "      <td>The Wandering Soap Opera</td>\n",
       "      <td>La Telenovela Errante</td>\n",
       "      <td>2017</td>\n",
       "      <td>80.0</td>\n",
       "      <td>Comedy,Drama,Fantasy</td>\n",
       "      <td>6.5</td>\n",
       "      <td>119</td>\n",
       "    </tr>\n",
       "  </tbody>\n",
       "</table>\n",
       "</div>"
      ],
      "text/plain": [
       "                             primary_title              original_title  \\\n",
       "tconst                                                                   \n",
       "tt0063540                        Sunghursh                   Sunghursh   \n",
       "tt0066787  One Day Before the Rainy Season             Ashad Ka Ek Din   \n",
       "tt0069049       The Other Side of the Wind  The Other Side of the Wind   \n",
       "tt0069204                  Sabse Bada Sukh             Sabse Bada Sukh   \n",
       "tt0100275         The Wandering Soap Opera       La Telenovela Errante   \n",
       "\n",
       "           start_year  runtime_minutes                genres  averagerating  \\\n",
       "tconst                                                                        \n",
       "tt0063540        2013            175.0    Action,Crime,Drama            7.0   \n",
       "tt0066787        2019            114.0       Biography,Drama            7.2   \n",
       "tt0069049        2018            122.0                 Drama            6.9   \n",
       "tt0069204        2018              NaN          Comedy,Drama            6.1   \n",
       "tt0100275        2017             80.0  Comedy,Drama,Fantasy            6.5   \n",
       "\n",
       "           numvotes  \n",
       "tconst               \n",
       "tt0063540        77  \n",
       "tt0066787        43  \n",
       "tt0069049      4517  \n",
       "tt0069204        13  \n",
       "tt0100275       119  "
      ]
     },
     "execution_count": 75,
     "metadata": {},
     "output_type": "execute_result"
    }
   ],
   "source": [
    "# Now join. This is an inner join because we only want rows that have IDs in both dataframes in our new DF\n",
    "\n",
    "basics_ratings = imdb_basics.join(imdb_ratings, how='inner')\n",
    "basics_ratings.head()"
   ]
  },
  {
   "cell_type": "code",
   "execution_count": 76,
   "metadata": {},
   "outputs": [
    {
     "data": {
      "text/plain": [
       "73856"
      ]
     },
     "execution_count": 76,
     "metadata": {},
     "output_type": "execute_result"
    }
   ],
   "source": [
    "len(basics_ratings)"
   ]
  },
  {
   "cell_type": "markdown",
   "metadata": {},
   "source": [
    "We can see here this was a very sucessful join as the length of the result is the same as the length of the imdb_ratings dataframe. This means that each 'tconst' was indeed unique and every single movie in the ratings DF was found in the Basics DF."
   ]
  },
  {
   "cell_type": "code",
   "execution_count": 77,
   "metadata": {},
   "outputs": [
    {
     "data": {
      "text/html": [
       "<div>\n",
       "<style scoped>\n",
       "    .dataframe tbody tr th:only-of-type {\n",
       "        vertical-align: middle;\n",
       "    }\n",
       "\n",
       "    .dataframe tbody tr th {\n",
       "        vertical-align: top;\n",
       "    }\n",
       "\n",
       "    .dataframe thead th {\n",
       "        text-align: right;\n",
       "    }\n",
       "</style>\n",
       "<table border=\"1\" class=\"dataframe\">\n",
       "  <thead>\n",
       "    <tr style=\"text-align: right;\">\n",
       "      <th></th>\n",
       "      <th>primary_title</th>\n",
       "      <th>start_year</th>\n",
       "      <th>runtime_minutes</th>\n",
       "      <th>genres</th>\n",
       "      <th>averagerating</th>\n",
       "      <th>numvotes</th>\n",
       "    </tr>\n",
       "    <tr>\n",
       "      <th>tconst</th>\n",
       "      <th></th>\n",
       "      <th></th>\n",
       "      <th></th>\n",
       "      <th></th>\n",
       "      <th></th>\n",
       "      <th></th>\n",
       "    </tr>\n",
       "  </thead>\n",
       "  <tbody>\n",
       "    <tr>\n",
       "      <th>tt0063540</th>\n",
       "      <td>Sunghursh</td>\n",
       "      <td>2013</td>\n",
       "      <td>175.0</td>\n",
       "      <td>Action,Crime,Drama</td>\n",
       "      <td>7.0</td>\n",
       "      <td>77</td>\n",
       "    </tr>\n",
       "    <tr>\n",
       "      <th>tt0066787</th>\n",
       "      <td>One Day Before the Rainy Season</td>\n",
       "      <td>2019</td>\n",
       "      <td>114.0</td>\n",
       "      <td>Biography,Drama</td>\n",
       "      <td>7.2</td>\n",
       "      <td>43</td>\n",
       "    </tr>\n",
       "  </tbody>\n",
       "</table>\n",
       "</div>"
      ],
      "text/plain": [
       "                             primary_title  start_year  runtime_minutes  \\\n",
       "tconst                                                                    \n",
       "tt0063540                        Sunghursh        2013            175.0   \n",
       "tt0066787  One Day Before the Rainy Season        2019            114.0   \n",
       "\n",
       "                       genres  averagerating  numvotes  \n",
       "tconst                                                  \n",
       "tt0063540  Action,Crime,Drama            7.0        77  \n",
       "tt0066787     Biography,Drama            7.2        43  "
      ]
     },
     "execution_count": 77,
     "metadata": {},
     "output_type": "execute_result"
    }
   ],
   "source": [
    "# To eliminate confusion, I am going to drop the 'original_title' column from this DF. Primary_title was\n",
    "# the one used in the fuzzy matching. So to not get mixed up, lets just delete the other title column.\n",
    "\n",
    "# Note: original_title is generally the same as primary, but in some cases is a title in a different language,\n",
    "# and primary title matched better witht the title in the BOM data\n",
    "\n",
    "basics_ratings.drop(columns = 'original_title', inplace=True)\n",
    "\n",
    "# Check it worked\n",
    "basics_ratings.head(2)"
   ]
  },
  {
   "cell_type": "markdown",
   "metadata": {},
   "source": [
    "The next step is to manipulate the genres column into something useful.\n",
    "The steps I will go through to do this are first clean the genres string and split it by the commas, appending the individual genres into a list object containing anywhere from 0 to 3 genres. Then I will search through all genres to create a list of all genre types, then use this list to create a new column for each genre and ask each row if that genre is in the genres_list or not, and create a boolean value in that genre column if it is or isn't true."
   ]
  },
  {
   "cell_type": "code",
   "execution_count": 78,
   "metadata": {},
   "outputs": [
    {
     "data": {
      "text/html": [
       "<div>\n",
       "<style scoped>\n",
       "    .dataframe tbody tr th:only-of-type {\n",
       "        vertical-align: middle;\n",
       "    }\n",
       "\n",
       "    .dataframe tbody tr th {\n",
       "        vertical-align: top;\n",
       "    }\n",
       "\n",
       "    .dataframe thead th {\n",
       "        text-align: right;\n",
       "    }\n",
       "</style>\n",
       "<table border=\"1\" class=\"dataframe\">\n",
       "  <thead>\n",
       "    <tr style=\"text-align: right;\">\n",
       "      <th></th>\n",
       "      <th>primary_title</th>\n",
       "      <th>start_year</th>\n",
       "      <th>runtime_minutes</th>\n",
       "      <th>genres</th>\n",
       "      <th>averagerating</th>\n",
       "      <th>numvotes</th>\n",
       "      <th>list_genres</th>\n",
       "    </tr>\n",
       "    <tr>\n",
       "      <th>tconst</th>\n",
       "      <th></th>\n",
       "      <th></th>\n",
       "      <th></th>\n",
       "      <th></th>\n",
       "      <th></th>\n",
       "      <th></th>\n",
       "      <th></th>\n",
       "    </tr>\n",
       "  </thead>\n",
       "  <tbody>\n",
       "    <tr>\n",
       "      <th>tt0063540</th>\n",
       "      <td>Sunghursh</td>\n",
       "      <td>2013</td>\n",
       "      <td>175.0</td>\n",
       "      <td>Action,Crime,Drama</td>\n",
       "      <td>7.0</td>\n",
       "      <td>77</td>\n",
       "      <td>[Action, Crime, Drama]</td>\n",
       "    </tr>\n",
       "    <tr>\n",
       "      <th>tt0066787</th>\n",
       "      <td>One Day Before the Rainy Season</td>\n",
       "      <td>2019</td>\n",
       "      <td>114.0</td>\n",
       "      <td>Biography,Drama</td>\n",
       "      <td>7.2</td>\n",
       "      <td>43</td>\n",
       "      <td>[Biography, Drama]</td>\n",
       "    </tr>\n",
       "  </tbody>\n",
       "</table>\n",
       "</div>"
      ],
      "text/plain": [
       "                             primary_title  start_year  runtime_minutes  \\\n",
       "tconst                                                                    \n",
       "tt0063540                        Sunghursh        2013            175.0   \n",
       "tt0066787  One Day Before the Rainy Season        2019            114.0   \n",
       "\n",
       "                       genres  averagerating  numvotes             list_genres  \n",
       "tconst                                                                          \n",
       "tt0063540  Action,Crime,Drama            7.0        77  [Action, Crime, Drama]  \n",
       "tt0066787     Biography,Drama            7.2        43      [Biography, Drama]  "
      ]
     },
     "execution_count": 78,
     "metadata": {},
     "output_type": "execute_result"
    }
   ],
   "source": [
    "# Here we split the genres column by the ',' delimiter and append to a new column containing individual\n",
    "# genres in list format.\n",
    "\n",
    "basics_ratings['list_genres'] = basics_ratings['genres'].map(lambda x: str(x).split(','))\n",
    "\n",
    "basics_ratings.head(2)"
   ]
  },
  {
   "cell_type": "markdown",
   "metadata": {},
   "source": [
    "Now let's make a list of all the genre types:"
   ]
  },
  {
   "cell_type": "code",
   "execution_count": 79,
   "metadata": {},
   "outputs": [],
   "source": [
    "list_of_genre_types = []\n",
    "for i in range(len(basics_ratings)):\n",
    "    for x in basics_ratings['list_genres'][i]:\n",
    "        if x in list_of_genre_types:\n",
    "            continue\n",
    "        elif x not in list_of_genre_types:\n",
    "            list_of_genre_types.append(x)"
   ]
  },
  {
   "cell_type": "markdown",
   "metadata": {},
   "source": [
    "A bit of genre cleaning: sorting genres alphabetically will be useful for bar plots.\n",
    "Also, the 'Short' films genre only contains one entry, so it is basically useless.\n",
    "The NaN genre is also not of any interest to us, so let's remove those genres right now too."
   ]
  },
  {
   "cell_type": "code",
   "execution_count": 80,
   "metadata": {},
   "outputs": [
    {
     "data": {
      "text/plain": [
       "['Action',\n",
       " 'Adult',\n",
       " 'Adventure',\n",
       " 'Animation',\n",
       " 'Biography',\n",
       " 'Comedy',\n",
       " 'Crime',\n",
       " 'Documentary',\n",
       " 'Drama',\n",
       " 'Family',\n",
       " 'Fantasy',\n",
       " 'Game-Show',\n",
       " 'History',\n",
       " 'Horror',\n",
       " 'Music',\n",
       " 'Musical',\n",
       " 'Mystery',\n",
       " 'News',\n",
       " 'Reality-TV',\n",
       " 'Romance',\n",
       " 'Sci-Fi',\n",
       " 'Sport',\n",
       " 'Thriller',\n",
       " 'War',\n",
       " 'Western']"
      ]
     },
     "execution_count": 80,
     "metadata": {},
     "output_type": "execute_result"
    }
   ],
   "source": [
    "list_of_genre_types.sort()\n",
    "\n",
    "list_of_genre_types.remove('Short')\n",
    "list_of_genre_types.remove('nan')\n",
    "list_of_genre_types"
   ]
  },
  {
   "cell_type": "markdown",
   "metadata": {},
   "source": [
    "Sweet, we have all the genres organized in a useful list now. Next step is to iterate through this list, creating a new column in our dataframe for each genre that contains a True or False if that genre is contained in the movie's 'list_genres' list."
   ]
  },
  {
   "cell_type": "code",
   "execution_count": 81,
   "metadata": {},
   "outputs": [],
   "source": [
    "for genre in list_of_genre_types:\n",
    "    basics_ratings[genre] = basics_ratings['list_genres'].map(lambda x: True if (genre in x) else False)"
   ]
  },
  {
   "cell_type": "code",
   "execution_count": 82,
   "metadata": {},
   "outputs": [
    {
     "data": {
      "text/html": [
       "<div>\n",
       "<style scoped>\n",
       "    .dataframe tbody tr th:only-of-type {\n",
       "        vertical-align: middle;\n",
       "    }\n",
       "\n",
       "    .dataframe tbody tr th {\n",
       "        vertical-align: top;\n",
       "    }\n",
       "\n",
       "    .dataframe thead th {\n",
       "        text-align: right;\n",
       "    }\n",
       "</style>\n",
       "<table border=\"1\" class=\"dataframe\">\n",
       "  <thead>\n",
       "    <tr style=\"text-align: right;\">\n",
       "      <th></th>\n",
       "      <th>primary_title</th>\n",
       "      <th>start_year</th>\n",
       "      <th>runtime_minutes</th>\n",
       "      <th>genres</th>\n",
       "      <th>averagerating</th>\n",
       "      <th>numvotes</th>\n",
       "      <th>list_genres</th>\n",
       "      <th>Action</th>\n",
       "      <th>Adult</th>\n",
       "      <th>Adventure</th>\n",
       "      <th>...</th>\n",
       "      <th>Musical</th>\n",
       "      <th>Mystery</th>\n",
       "      <th>News</th>\n",
       "      <th>Reality-TV</th>\n",
       "      <th>Romance</th>\n",
       "      <th>Sci-Fi</th>\n",
       "      <th>Sport</th>\n",
       "      <th>Thriller</th>\n",
       "      <th>War</th>\n",
       "      <th>Western</th>\n",
       "    </tr>\n",
       "    <tr>\n",
       "      <th>tconst</th>\n",
       "      <th></th>\n",
       "      <th></th>\n",
       "      <th></th>\n",
       "      <th></th>\n",
       "      <th></th>\n",
       "      <th></th>\n",
       "      <th></th>\n",
       "      <th></th>\n",
       "      <th></th>\n",
       "      <th></th>\n",
       "      <th></th>\n",
       "      <th></th>\n",
       "      <th></th>\n",
       "      <th></th>\n",
       "      <th></th>\n",
       "      <th></th>\n",
       "      <th></th>\n",
       "      <th></th>\n",
       "      <th></th>\n",
       "      <th></th>\n",
       "      <th></th>\n",
       "    </tr>\n",
       "  </thead>\n",
       "  <tbody>\n",
       "    <tr>\n",
       "      <th>tt0063540</th>\n",
       "      <td>Sunghursh</td>\n",
       "      <td>2013</td>\n",
       "      <td>175.0</td>\n",
       "      <td>Action,Crime,Drama</td>\n",
       "      <td>7.0</td>\n",
       "      <td>77</td>\n",
       "      <td>[Action, Crime, Drama]</td>\n",
       "      <td>True</td>\n",
       "      <td>False</td>\n",
       "      <td>False</td>\n",
       "      <td>...</td>\n",
       "      <td>False</td>\n",
       "      <td>False</td>\n",
       "      <td>False</td>\n",
       "      <td>False</td>\n",
       "      <td>False</td>\n",
       "      <td>False</td>\n",
       "      <td>False</td>\n",
       "      <td>False</td>\n",
       "      <td>False</td>\n",
       "      <td>False</td>\n",
       "    </tr>\n",
       "    <tr>\n",
       "      <th>tt0066787</th>\n",
       "      <td>One Day Before the Rainy Season</td>\n",
       "      <td>2019</td>\n",
       "      <td>114.0</td>\n",
       "      <td>Biography,Drama</td>\n",
       "      <td>7.2</td>\n",
       "      <td>43</td>\n",
       "      <td>[Biography, Drama]</td>\n",
       "      <td>False</td>\n",
       "      <td>False</td>\n",
       "      <td>False</td>\n",
       "      <td>...</td>\n",
       "      <td>False</td>\n",
       "      <td>False</td>\n",
       "      <td>False</td>\n",
       "      <td>False</td>\n",
       "      <td>False</td>\n",
       "      <td>False</td>\n",
       "      <td>False</td>\n",
       "      <td>False</td>\n",
       "      <td>False</td>\n",
       "      <td>False</td>\n",
       "    </tr>\n",
       "    <tr>\n",
       "      <th>tt0069049</th>\n",
       "      <td>The Other Side of the Wind</td>\n",
       "      <td>2018</td>\n",
       "      <td>122.0</td>\n",
       "      <td>Drama</td>\n",
       "      <td>6.9</td>\n",
       "      <td>4517</td>\n",
       "      <td>[Drama]</td>\n",
       "      <td>False</td>\n",
       "      <td>False</td>\n",
       "      <td>False</td>\n",
       "      <td>...</td>\n",
       "      <td>False</td>\n",
       "      <td>False</td>\n",
       "      <td>False</td>\n",
       "      <td>False</td>\n",
       "      <td>False</td>\n",
       "      <td>False</td>\n",
       "      <td>False</td>\n",
       "      <td>False</td>\n",
       "      <td>False</td>\n",
       "      <td>False</td>\n",
       "    </tr>\n",
       "  </tbody>\n",
       "</table>\n",
       "<p>3 rows × 32 columns</p>\n",
       "</div>"
      ],
      "text/plain": [
       "                             primary_title  start_year  runtime_minutes  \\\n",
       "tconst                                                                    \n",
       "tt0063540                        Sunghursh        2013            175.0   \n",
       "tt0066787  One Day Before the Rainy Season        2019            114.0   \n",
       "tt0069049       The Other Side of the Wind        2018            122.0   \n",
       "\n",
       "                       genres  averagerating  numvotes  \\\n",
       "tconst                                                   \n",
       "tt0063540  Action,Crime,Drama            7.0        77   \n",
       "tt0066787     Biography,Drama            7.2        43   \n",
       "tt0069049               Drama            6.9      4517   \n",
       "\n",
       "                      list_genres  Action  Adult  Adventure  ...  Musical  \\\n",
       "tconst                                                       ...            \n",
       "tt0063540  [Action, Crime, Drama]    True  False      False  ...    False   \n",
       "tt0066787      [Biography, Drama]   False  False      False  ...    False   \n",
       "tt0069049                 [Drama]   False  False      False  ...    False   \n",
       "\n",
       "           Mystery   News  Reality-TV  Romance  Sci-Fi  Sport  Thriller  \\\n",
       "tconst                                                                    \n",
       "tt0063540    False  False       False    False   False  False     False   \n",
       "tt0066787    False  False       False    False   False  False     False   \n",
       "tt0069049    False  False       False    False   False  False     False   \n",
       "\n",
       "             War  Western  \n",
       "tconst                     \n",
       "tt0063540  False    False  \n",
       "tt0066787  False    False  \n",
       "tt0069049  False    False  \n",
       "\n",
       "[3 rows x 32 columns]"
      ]
     },
     "execution_count": 82,
     "metadata": {},
     "output_type": "execute_result"
    }
   ],
   "source": [
    "basics_ratings.head(3)"
   ]
  },
  {
   "cell_type": "markdown",
   "metadata": {},
   "source": [
    "Perfect, now this dataframe and genres column can be selected to pull only movies that are in a certain genre.\n",
    "This would look like \"basics_ratings[basics_ratings['Action'] == True]' to choose only Action movies."
   ]
  },
  {
   "cell_type": "markdown",
   "metadata": {},
   "source": [
    "### Joining BOM data\n",
    "\n",
    "Now that the IMDB data is prepped, we can continue to merge in the BOM gross data.\n",
    "\n",
    "First, remove the year from the 'matched_title' in the bom_fuzzy_matches dataframe. Then merge that dataset with the imdb dataset on the title columns. "
   ]
  },
  {
   "cell_type": "code",
   "execution_count": 83,
   "metadata": {},
   "outputs": [],
   "source": [
    "# Can easily remove the year just by removing the last 5 characters from the title string.\n",
    "\n",
    "bom_fuzzy_matches['matched_title'] = bom_fuzzy_matches['matched_title'].map(lambda x: str(x)[:-5])"
   ]
  },
  {
   "cell_type": "code",
   "execution_count": 84,
   "metadata": {},
   "outputs": [
    {
     "data": {
      "text/plain": [
       "0            Toy Story 3\n",
       "1    Alice in Wonderland\n",
       "Name: matched_title, dtype: object"
      ]
     },
     "execution_count": 84,
     "metadata": {},
     "output_type": "execute_result"
    }
   ],
   "source": [
    "# Check it worked\n",
    "\n",
    "bom_fuzzy_matches['matched_title'].head(2)"
   ]
  },
  {
   "cell_type": "markdown",
   "metadata": {},
   "source": [
    "One more thing before merging: lets only select the movies in the bom_fuzzy_matches dataframe where the FuzzyWuzzy was very sure the titles matched. I decided on the similarity cutoff value by scrolling through the dataframe with similarity < 100 and examining which ones were correct or not.\n",
    "\n",
    "While similarties in the 80s were occasionally wrong, anything I found above 90 during my brief scroll had been matched correctly. We could lower this value a bit further, but the number of rows above 90 is 2789 out of the initial 3387. I am happy continuing with 82% of our data, this is a significant enough fraction. It is a benefit to know we are continuing with only matched data we are certain about than include mis-matches."
   ]
  },
  {
   "cell_type": "code",
   "execution_count": 85,
   "metadata": {},
   "outputs": [],
   "source": [
    "bom_matches = bom_fuzzy_matches[bom_fuzzy_matches['similarity'] > 90]"
   ]
  },
  {
   "cell_type": "code",
   "execution_count": 86,
   "metadata": {
    "scrolled": true
   },
   "outputs": [
    {
     "data": {
      "text/html": [
       "<div>\n",
       "<style scoped>\n",
       "    .dataframe tbody tr th:only-of-type {\n",
       "        vertical-align: middle;\n",
       "    }\n",
       "\n",
       "    .dataframe tbody tr th {\n",
       "        vertical-align: top;\n",
       "    }\n",
       "\n",
       "    .dataframe thead th {\n",
       "        text-align: right;\n",
       "    }\n",
       "</style>\n",
       "<table border=\"1\" class=\"dataframe\">\n",
       "  <thead>\n",
       "    <tr style=\"text-align: right;\">\n",
       "      <th></th>\n",
       "      <th>title</th>\n",
       "      <th>studio</th>\n",
       "      <th>domestic_gross</th>\n",
       "      <th>foreign_gross</th>\n",
       "      <th>year</th>\n",
       "      <th>matched_title</th>\n",
       "      <th>similarity</th>\n",
       "    </tr>\n",
       "  </thead>\n",
       "  <tbody>\n",
       "    <tr>\n",
       "      <th>0</th>\n",
       "      <td>Toy Story 3 2010</td>\n",
       "      <td>BV</td>\n",
       "      <td>415000000.0</td>\n",
       "      <td>652000000</td>\n",
       "      <td>2010</td>\n",
       "      <td>Toy Story 3</td>\n",
       "      <td>100</td>\n",
       "    </tr>\n",
       "    <tr>\n",
       "      <th>2</th>\n",
       "      <td>Harry Potter and the Deathly Hallows Part 1 2010</td>\n",
       "      <td>WB</td>\n",
       "      <td>296000000.0</td>\n",
       "      <td>664300000</td>\n",
       "      <td>2010</td>\n",
       "      <td>Harry Potter and the Deathly Hallows: Part 1</td>\n",
       "      <td>99</td>\n",
       "    </tr>\n",
       "    <tr>\n",
       "      <th>3</th>\n",
       "      <td>Inception 2010</td>\n",
       "      <td>WB</td>\n",
       "      <td>292600000.0</td>\n",
       "      <td>535700000</td>\n",
       "      <td>2010</td>\n",
       "      <td>Inception</td>\n",
       "      <td>100</td>\n",
       "    </tr>\n",
       "    <tr>\n",
       "      <th>4</th>\n",
       "      <td>Shrek Forever After 2010</td>\n",
       "      <td>P/DW</td>\n",
       "      <td>238700000.0</td>\n",
       "      <td>513900000</td>\n",
       "      <td>2010</td>\n",
       "      <td>Shrek Forever After</td>\n",
       "      <td>100</td>\n",
       "    </tr>\n",
       "    <tr>\n",
       "      <th>5</th>\n",
       "      <td>The Twilight Saga: Eclipse 2010</td>\n",
       "      <td>Sum.</td>\n",
       "      <td>300500000.0</td>\n",
       "      <td>398000000</td>\n",
       "      <td>2010</td>\n",
       "      <td>The Twilight Saga: Eclipse</td>\n",
       "      <td>100</td>\n",
       "    </tr>\n",
       "  </tbody>\n",
       "</table>\n",
       "</div>"
      ],
      "text/plain": [
       "                                              title studio  domestic_gross  \\\n",
       "0                                  Toy Story 3 2010     BV     415000000.0   \n",
       "2  Harry Potter and the Deathly Hallows Part 1 2010     WB     296000000.0   \n",
       "3                                    Inception 2010     WB     292600000.0   \n",
       "4                          Shrek Forever After 2010   P/DW     238700000.0   \n",
       "5                   The Twilight Saga: Eclipse 2010   Sum.     300500000.0   \n",
       "\n",
       "  foreign_gross  year                                 matched_title  \\\n",
       "0     652000000  2010                                   Toy Story 3   \n",
       "2     664300000  2010  Harry Potter and the Deathly Hallows: Part 1   \n",
       "3     535700000  2010                                     Inception   \n",
       "4     513900000  2010                           Shrek Forever After   \n",
       "5     398000000  2010                    The Twilight Saga: Eclipse   \n",
       "\n",
       "   similarity  \n",
       "0         100  \n",
       "2          99  \n",
       "3         100  \n",
       "4         100  \n",
       "5         100  "
      ]
     },
     "execution_count": 86,
     "metadata": {},
     "output_type": "execute_result"
    }
   ],
   "source": [
    "bom_matches.head()"
   ]
  },
  {
   "cell_type": "markdown",
   "metadata": {},
   "source": [
    "Also before we do the final merge, lets check for movie duplicates and remove them from each dataframe."
   ]
  },
  {
   "cell_type": "code",
   "execution_count": 87,
   "metadata": {
    "scrolled": false
   },
   "outputs": [
    {
     "data": {
      "text/plain": [
       "False    2780\n",
       "True        9\n",
       "dtype: int64"
      ]
     },
     "execution_count": 87,
     "metadata": {},
     "output_type": "execute_result"
    }
   ],
   "source": [
    "bom_matches.duplicated(subset='matched_title').value_counts()"
   ]
  },
  {
   "cell_type": "code",
   "execution_count": 88,
   "metadata": {},
   "outputs": [
    {
     "data": {
      "text/plain": [
       "False    69993\n",
       "True      3863\n",
       "dtype: int64"
      ]
     },
     "execution_count": 88,
     "metadata": {},
     "output_type": "execute_result"
    }
   ],
   "source": [
    "basics_ratings.duplicated(subset='primary_title').value_counts()"
   ]
  },
  {
   "cell_type": "code",
   "execution_count": 89,
   "metadata": {},
   "outputs": [],
   "source": [
    "bom_matches = bom_matches.drop_duplicates(subset='matched_title')\n",
    "basics_ratings = basics_ratings.drop_duplicates(subset='primary_title')"
   ]
  },
  {
   "cell_type": "code",
   "execution_count": 90,
   "metadata": {},
   "outputs": [
    {
     "data": {
      "text/plain": [
       "False    69993\n",
       "dtype: int64"
      ]
     },
     "execution_count": 90,
     "metadata": {},
     "output_type": "execute_result"
    }
   ],
   "source": [
    "basics_ratings.duplicated(subset='primary_title').value_counts()"
   ]
  },
  {
   "cell_type": "markdown",
   "metadata": {},
   "source": [
    "Now we have removed all the duplicate titles. This will ensure that we dont create extra duplicate rows while we do the final join. \n",
    "\n",
    "Some of these duplicate titles are becuase a movie was re-made or re-released in a different year. Unfortinately, our initial data in either dataframe is not specific enough to tell which may be which, and does often contain the same release year. To make it easy and quick, I have decided to get rid of all duplicates and keep the first. Most of these are real duplicates but most likely we are also losing a few movies that were released multiple times and have different gross and rating data for each. If the initial data was more clear it might be easy to create separate titles or IDs for these, but given my time constraint, I have elected to drop them rather than accidentally include duplicates."
   ]
  },
  {
   "cell_type": "markdown",
   "metadata": {},
   "source": [
    "Now we merge bom_matches with basics_ratings using an inner merge to select where matched_title and primary_title are the same."
   ]
  },
  {
   "cell_type": "code",
   "execution_count": 91,
   "metadata": {},
   "outputs": [],
   "source": [
    "df = bom_matches.merge(basics_ratings, left_on='matched_title', right_on='primary_title', how='inner')"
   ]
  },
  {
   "cell_type": "code",
   "execution_count": 92,
   "metadata": {},
   "outputs": [
    {
     "data": {
      "text/html": [
       "<div>\n",
       "<style scoped>\n",
       "    .dataframe tbody tr th:only-of-type {\n",
       "        vertical-align: middle;\n",
       "    }\n",
       "\n",
       "    .dataframe tbody tr th {\n",
       "        vertical-align: top;\n",
       "    }\n",
       "\n",
       "    .dataframe thead th {\n",
       "        text-align: right;\n",
       "    }\n",
       "</style>\n",
       "<table border=\"1\" class=\"dataframe\">\n",
       "  <thead>\n",
       "    <tr style=\"text-align: right;\">\n",
       "      <th></th>\n",
       "      <th>title</th>\n",
       "      <th>studio</th>\n",
       "      <th>domestic_gross</th>\n",
       "      <th>foreign_gross</th>\n",
       "      <th>year</th>\n",
       "      <th>matched_title</th>\n",
       "      <th>similarity</th>\n",
       "      <th>primary_title</th>\n",
       "      <th>start_year</th>\n",
       "      <th>runtime_minutes</th>\n",
       "      <th>...</th>\n",
       "      <th>Musical</th>\n",
       "      <th>Mystery</th>\n",
       "      <th>News</th>\n",
       "      <th>Reality-TV</th>\n",
       "      <th>Romance</th>\n",
       "      <th>Sci-Fi</th>\n",
       "      <th>Sport</th>\n",
       "      <th>Thriller</th>\n",
       "      <th>War</th>\n",
       "      <th>Western</th>\n",
       "    </tr>\n",
       "  </thead>\n",
       "  <tbody>\n",
       "    <tr>\n",
       "      <th>0</th>\n",
       "      <td>Toy Story 3 2010</td>\n",
       "      <td>BV</td>\n",
       "      <td>415000000.0</td>\n",
       "      <td>652000000</td>\n",
       "      <td>2010</td>\n",
       "      <td>Toy Story 3</td>\n",
       "      <td>100</td>\n",
       "      <td>Toy Story 3</td>\n",
       "      <td>2010</td>\n",
       "      <td>103.0</td>\n",
       "      <td>...</td>\n",
       "      <td>False</td>\n",
       "      <td>False</td>\n",
       "      <td>False</td>\n",
       "      <td>False</td>\n",
       "      <td>False</td>\n",
       "      <td>False</td>\n",
       "      <td>False</td>\n",
       "      <td>False</td>\n",
       "      <td>False</td>\n",
       "      <td>False</td>\n",
       "    </tr>\n",
       "    <tr>\n",
       "      <th>1</th>\n",
       "      <td>Harry Potter and the Deathly Hallows Part 1 2010</td>\n",
       "      <td>WB</td>\n",
       "      <td>296000000.0</td>\n",
       "      <td>664300000</td>\n",
       "      <td>2010</td>\n",
       "      <td>Harry Potter and the Deathly Hallows: Part 1</td>\n",
       "      <td>99</td>\n",
       "      <td>Harry Potter and the Deathly Hallows: Part 1</td>\n",
       "      <td>2010</td>\n",
       "      <td>146.0</td>\n",
       "      <td>...</td>\n",
       "      <td>False</td>\n",
       "      <td>True</td>\n",
       "      <td>False</td>\n",
       "      <td>False</td>\n",
       "      <td>False</td>\n",
       "      <td>False</td>\n",
       "      <td>False</td>\n",
       "      <td>False</td>\n",
       "      <td>False</td>\n",
       "      <td>False</td>\n",
       "    </tr>\n",
       "    <tr>\n",
       "      <th>2</th>\n",
       "      <td>Inception 2010</td>\n",
       "      <td>WB</td>\n",
       "      <td>292600000.0</td>\n",
       "      <td>535700000</td>\n",
       "      <td>2010</td>\n",
       "      <td>Inception</td>\n",
       "      <td>100</td>\n",
       "      <td>Inception</td>\n",
       "      <td>2010</td>\n",
       "      <td>148.0</td>\n",
       "      <td>...</td>\n",
       "      <td>False</td>\n",
       "      <td>False</td>\n",
       "      <td>False</td>\n",
       "      <td>False</td>\n",
       "      <td>False</td>\n",
       "      <td>True</td>\n",
       "      <td>False</td>\n",
       "      <td>False</td>\n",
       "      <td>False</td>\n",
       "      <td>False</td>\n",
       "    </tr>\n",
       "    <tr>\n",
       "      <th>3</th>\n",
       "      <td>Shrek Forever After 2010</td>\n",
       "      <td>P/DW</td>\n",
       "      <td>238700000.0</td>\n",
       "      <td>513900000</td>\n",
       "      <td>2010</td>\n",
       "      <td>Shrek Forever After</td>\n",
       "      <td>100</td>\n",
       "      <td>Shrek Forever After</td>\n",
       "      <td>2010</td>\n",
       "      <td>93.0</td>\n",
       "      <td>...</td>\n",
       "      <td>False</td>\n",
       "      <td>False</td>\n",
       "      <td>False</td>\n",
       "      <td>False</td>\n",
       "      <td>False</td>\n",
       "      <td>False</td>\n",
       "      <td>False</td>\n",
       "      <td>False</td>\n",
       "      <td>False</td>\n",
       "      <td>False</td>\n",
       "    </tr>\n",
       "    <tr>\n",
       "      <th>4</th>\n",
       "      <td>The Twilight Saga: Eclipse 2010</td>\n",
       "      <td>Sum.</td>\n",
       "      <td>300500000.0</td>\n",
       "      <td>398000000</td>\n",
       "      <td>2010</td>\n",
       "      <td>The Twilight Saga: Eclipse</td>\n",
       "      <td>100</td>\n",
       "      <td>The Twilight Saga: Eclipse</td>\n",
       "      <td>2010</td>\n",
       "      <td>124.0</td>\n",
       "      <td>...</td>\n",
       "      <td>False</td>\n",
       "      <td>False</td>\n",
       "      <td>False</td>\n",
       "      <td>False</td>\n",
       "      <td>False</td>\n",
       "      <td>False</td>\n",
       "      <td>False</td>\n",
       "      <td>False</td>\n",
       "      <td>False</td>\n",
       "      <td>False</td>\n",
       "    </tr>\n",
       "  </tbody>\n",
       "</table>\n",
       "<p>5 rows × 39 columns</p>\n",
       "</div>"
      ],
      "text/plain": [
       "                                              title studio  domestic_gross  \\\n",
       "0                                  Toy Story 3 2010     BV     415000000.0   \n",
       "1  Harry Potter and the Deathly Hallows Part 1 2010     WB     296000000.0   \n",
       "2                                    Inception 2010     WB     292600000.0   \n",
       "3                          Shrek Forever After 2010   P/DW     238700000.0   \n",
       "4                   The Twilight Saga: Eclipse 2010   Sum.     300500000.0   \n",
       "\n",
       "  foreign_gross  year                                 matched_title  \\\n",
       "0     652000000  2010                                   Toy Story 3   \n",
       "1     664300000  2010  Harry Potter and the Deathly Hallows: Part 1   \n",
       "2     535700000  2010                                     Inception   \n",
       "3     513900000  2010                           Shrek Forever After   \n",
       "4     398000000  2010                    The Twilight Saga: Eclipse   \n",
       "\n",
       "   similarity                                 primary_title  start_year  \\\n",
       "0         100                                   Toy Story 3        2010   \n",
       "1          99  Harry Potter and the Deathly Hallows: Part 1        2010   \n",
       "2         100                                     Inception        2010   \n",
       "3         100                           Shrek Forever After        2010   \n",
       "4         100                    The Twilight Saga: Eclipse        2010   \n",
       "\n",
       "   runtime_minutes  ... Musical  Mystery   News Reality-TV  Romance  Sci-Fi  \\\n",
       "0            103.0  ...   False    False  False      False    False   False   \n",
       "1            146.0  ...   False     True  False      False    False   False   \n",
       "2            148.0  ...   False    False  False      False    False    True   \n",
       "3             93.0  ...   False    False  False      False    False   False   \n",
       "4            124.0  ...   False    False  False      False    False   False   \n",
       "\n",
       "   Sport  Thriller    War  Western  \n",
       "0  False     False  False    False  \n",
       "1  False     False  False    False  \n",
       "2  False     False  False    False  \n",
       "3  False     False  False    False  \n",
       "4  False     False  False    False  \n",
       "\n",
       "[5 rows x 39 columns]"
      ]
     },
     "execution_count": 92,
     "metadata": {},
     "output_type": "execute_result"
    }
   ],
   "source": [
    "df.head()"
   ]
  },
  {
   "cell_type": "markdown",
   "metadata": {},
   "source": [
    "Great! This new dataframe now includes the movies the are included in both the BOM and IMDB dataset, so we can examine both gross and ratings and genre information for all of them. \n",
    "\n",
    "Examing the length of the result to the original, we only lost 13 rows from bom_matches. 2767 is the final length of our movie dataframe. Not terrible considering the smallest dataset we started with was 3387 movies."
   ]
  },
  {
   "cell_type": "markdown",
   "metadata": {},
   "source": [
    "## Plotting\n",
    "\n",
    "### Rating\n",
    "I will start with creating a bar chart of average movie rating for each genre"
   ]
  },
  {
   "cell_type": "code",
   "execution_count": 93,
   "metadata": {},
   "outputs": [],
   "source": [
    "# First build a dictionary to store the genre and ratings in key value pairs\n",
    "# for usefulness will also include the number of movies in each genre, so we can also see how many\n",
    "# movies the rating is based off of. A genre with many movies is better data than a \n",
    "# genre with only one movie rating\n",
    "\n",
    "ratings_dict = {}\n",
    "\n",
    "for genre in list_of_genre_types:\n",
    "    ratings_dict[genre] = {'average_rating': df[df[genre] == True]['averagerating'].mean(),\n",
    "                           'number_movies': len(df[df[genre] == True])}"
   ]
  },
  {
   "cell_type": "code",
   "execution_count": 94,
   "metadata": {},
   "outputs": [
    {
     "data": {
      "text/plain": [
       "{'Action': {'average_rating': 6.340094339622642, 'number_movies': 636},\n",
       " 'Adult': {'average_rating': nan, 'number_movies': 0},\n",
       " 'Adventure': {'average_rating': 6.4905405405405405, 'number_movies': 444},\n",
       " 'Animation': {'average_rating': 6.664285714285714, 'number_movies': 168},\n",
       " 'Biography': {'average_rating': 6.9813620071684594, 'number_movies': 279},\n",
       " 'Comedy': {'average_rating': 6.247045951859956, 'number_movies': 914},\n",
       " 'Crime': {'average_rating': 6.46994382022472, 'number_movies': 356},\n",
       " 'Documentary': {'average_rating': 7.250243902439025, 'number_movies': 205},\n",
       " 'Drama': {'average_rating': 6.602613129381772, 'number_movies': 1569},\n",
       " 'Family': {'average_rating': 6.173684210526316, 'number_movies': 114},\n",
       " 'Fantasy': {'average_rating': 6.2823529411764705, 'number_movies': 170},\n",
       " 'Game-Show': {'average_rating': nan, 'number_movies': 0},\n",
       " 'History': {'average_rating': 6.906201550387598, 'number_movies': 129},\n",
       " 'Horror': {'average_rating': 5.7613861386138625, 'number_movies': 202},\n",
       " 'Music': {'average_rating': 6.685263157894738, 'number_movies': 95},\n",
       " 'Musical': {'average_rating': 6.21875, 'number_movies': 16},\n",
       " 'Mystery': {'average_rating': 6.322395833333334, 'number_movies': 192},\n",
       " 'News': {'average_rating': 6.7, 'number_movies': 1},\n",
       " 'Reality-TV': {'average_rating': nan, 'number_movies': 0},\n",
       " 'Romance': {'average_rating': 6.350111856823267, 'number_movies': 447},\n",
       " 'Sci-Fi': {'average_rating': 6.4689922480620154, 'number_movies': 129},\n",
       " 'Sport': {'average_rating': 6.988095238095238, 'number_movies': 42},\n",
       " 'Thriller': {'average_rating': 6.254805194805196, 'number_movies': 385},\n",
       " 'War': {'average_rating': 6.712765957446806, 'number_movies': 47},\n",
       " 'Western': {'average_rating': 6.672222222222222, 'number_movies': 18}}"
      ]
     },
     "execution_count": 94,
     "metadata": {},
     "output_type": "execute_result"
    }
   ],
   "source": [
    "ratings_dict"
   ]
  },
  {
   "cell_type": "markdown",
   "metadata": {},
   "source": [
    "Adult, game-show, and reality-tv genres all contain zero movies after we merged with BOM.\n",
    "Let's delete those genres from the dictionary."
   ]
  },
  {
   "cell_type": "code",
   "execution_count": 95,
   "metadata": {},
   "outputs": [],
   "source": [
    "del ratings_dict['Adult']\n",
    "del ratings_dict['Game-Show']\n",
    "del ratings_dict['Reality-TV']"
   ]
  },
  {
   "cell_type": "markdown",
   "metadata": {},
   "source": [
    "Now plot the rest of the genres ratings in a bar chart, in descending order with each colored by value to make it easy to read"
   ]
  },
  {
   "cell_type": "code",
   "execution_count": 96,
   "metadata": {},
   "outputs": [
    {
     "data": {
      "image/png": "[encoded data removed]",
      "text/plain": [
       "<Figure size 432x720 with 1 Axes>"
      ]
     },
     "metadata": {
      "needs_background": "light"
     },
     "output_type": "display_data"
    }
   ],
   "source": [
    "# First sort the ratings dictionary\n",
    "ratings_dict_sorted = dict(sorted(ratings_dict.items(), key=lambda item: item[1]['average_rating']))\n",
    "\n",
    "\n",
    "# From new sorted dictionary, make sorted lists for plotting\n",
    "ratings_sorted = [value['average_rating'] for key, value in ratings_dict_sorted.items()][::-1]\n",
    "genres_sorted = [key for key, value in ratings_dict_sorted.items()][::-1]\n",
    "\n",
    "# Normalize colormap for data range\n",
    "# Matplotlib normalize and ColorMap made this a very easy two liner\n",
    "norm = plt.Normalize(min(ratings_sorted)-1, max(ratings_sorted)+.5)\n",
    "colors = plt.cm.OrRd(norm(ratings_sorted))\n",
    "\n",
    "# Define plot\n",
    "fig, ax = plt.subplots(figsize=(6,10))\n",
    "\n",
    "\n",
    "# Draw plot\n",
    "sns.barplot(ratings_sorted, genres_sorted, palette = colors, orient='horizonatal')\n",
    "\n",
    "# Add a line to show the average rating for all movies.\n",
    "avg_rating = np.mean(df['averagerating'])\n",
    "plt.axvline(x=avg_rating, ymin=0, ymax=1, color='k')\n",
    "\n",
    "ax.tick_params(axis='x', labelrotation = 0)\n",
    "ax.set_xlabel('Rating')\n",
    "ax.set_ylabel('Genre')\n",
    "ax.set_title('Average Rating for Movies in a Genre');"
   ]
  },
  {
   "cell_type": "markdown",
   "metadata": {},
   "source": [
    "I think I would be good to trim the genres even more. News, Musical, and Western all contain very few movies. Lets remove them to make a more concise bar chart."
   ]
  },
  {
   "cell_type": "code",
   "execution_count": 97,
   "metadata": {},
   "outputs": [],
   "source": [
    "del ratings_dict['Musical']\n",
    "del ratings_dict['News']\n",
    "del ratings_dict['Western']"
   ]
  },
  {
   "cell_type": "code",
   "execution_count": 98,
   "metadata": {},
   "outputs": [
    {
     "data": {
      "image/png": "[encoded data removed]",
      "text/plain": [
       "<Figure size 432x720 with 1 Axes>"
      ]
     },
     "metadata": {
      "needs_background": "light"
     },
     "output_type": "display_data"
    }
   ],
   "source": [
    "# First sort the ratings dictionary\n",
    "ratings_dict_sorted = dict(sorted(ratings_dict.items(), key=lambda item: item[1]['average_rating']))\n",
    "\n",
    "\n",
    "# From new sorted dictionary, make sorted lists for plotting\n",
    "ratings_sorted = [value['average_rating'] for key, value in ratings_dict_sorted.items()][::-1]\n",
    "genres_sorted = [key for key, value in ratings_dict_sorted.items()][::-1]\n",
    "\n",
    "# Normalize colormap for data range\n",
    "# Matplotlib normalize and ColorMap made this a very easy two liner\n",
    "norm = plt.Normalize(min(ratings_sorted)-1, max(ratings_sorted)+.5)\n",
    "colors = plt.cm.OrRd(norm(ratings_sorted))\n",
    "\n",
    "# Define plot\n",
    "fig, ax = plt.subplots(figsize=(6,10))\n",
    "\n",
    "\n",
    "# Draw plot\n",
    "sns.barplot(ratings_sorted, genres_sorted, palette = colors, orient='horizonatal')\n",
    "\n",
    "# Add a line to show the average rating for all movies.\n",
    "avg_rating = np.mean(df['averagerating'])\n",
    "plt.axvline(x=avg_rating, ymin=0, ymax=1, color='k', linestyle='--')\n",
    "\n",
    "# Set labels\n",
    "ax.tick_params(axis='x', labelrotation = 0)\n",
    "ax.set_xlabel('Rating')\n",
    "ax.set_ylabel('Genre')\n",
    "ax.set_title('Average Rating for Movies in a Genre');"
   ]
  },
  {
   "cell_type": "markdown",
   "metadata": {},
   "source": [
    "### Gross\n",
    "Now build the same style plot but for the average gross for each genre."
   ]
  },
  {
   "cell_type": "code",
   "execution_count": 99,
   "metadata": {},
   "outputs": [],
   "source": [
    "gross_dict = {}\n",
    "\n",
    "for genre in list_of_genre_types:\n",
    "    gross_dict[genre] = {'average_gross': df[df[genre] == True]['domestic_gross'].mean(),\n",
    "                           'number_movies': len(df[df[genre] == True])}"
   ]
  },
  {
   "cell_type": "code",
   "execution_count": 100,
   "metadata": {},
   "outputs": [],
   "source": [
    "# To make it consistent with above plots, remove the same genres that do not contain enough movies\n",
    "# or are not of enough interest\n",
    "\n",
    "del gross_dict['Adult']\n",
    "del gross_dict['Game-Show']\n",
    "del gross_dict['Reality-TV']\n",
    "del gross_dict['Musical']\n",
    "del gross_dict['News']\n",
    "del gross_dict['Western']"
   ]
  },
  {
   "cell_type": "code",
   "execution_count": 101,
   "metadata": {},
   "outputs": [
    {
     "data": {
      "image/png": "[encoded data removed]",
      "text/plain": [
       "<Figure size 432x720 with 1 Axes>"
      ]
     },
     "metadata": {
      "needs_background": "light"
     },
     "output_type": "display_data"
    }
   ],
   "source": [
    "# First sort the ratings dictionary\n",
    "gross_dict_sorted = dict(sorted(gross_dict.items(), key=lambda item: item[1]['average_gross']))\n",
    "\n",
    "\n",
    "# From new sorted dictionary, make sorted lists for plotting\n",
    "gross_sorted = [value['average_gross'] for key, value in gross_dict_sorted.items()][::-1]\n",
    "genres_sorted = [key for key, value in gross_dict_sorted.items()][::-1]\n",
    "\n",
    "# Normalize colormap for data range\n",
    "# Matplotlib normalize and ColorMap made this a very easy two liner\n",
    "norm = plt.Normalize(min(gross_sorted)-50000000, max(gross_sorted)+5000000)\n",
    "# The numbers added to the min and max here are to use the central values of the colormap scale.\n",
    "# When not trimmed, the low values are too light to be visible on the chart, so scale until it looks good.\n",
    "colors = plt.cm.BuPu(norm(gross_sorted))\n",
    "\n",
    "# Define plot\n",
    "fig, ax = plt.subplots(figsize=(6,10))\n",
    "\n",
    "\n",
    "# Draw plot\n",
    "sns.barplot(gross_sorted, genres_sorted, palette = colors, orient='horizonatal')\n",
    "\n",
    "# Add a line to show the average rating for all movies.\n",
    "avg_gross = np.mean(df['domestic_gross'])\n",
    "plt.axvline(x=avg_gross, ymin=0, ymax=1, color='y', linestyle='--')\n",
    "\n",
    "# Set labels\n",
    "ax.tick_params(axis='x', labelrotation = 0)\n",
    "ax.set_xlabel('Rating')\n",
    "ax.set_ylabel('Genre')\n",
    "ax.set_title('Average Domestic Gross for Movies in a Genre');"
   ]
  },
  {
   "cell_type": "markdown",
   "metadata": {},
   "source": [
    "## i think skip stuff below"
   ]
  },
  {
   "cell_type": "code",
   "execution_count": 102,
   "metadata": {},
   "outputs": [],
   "source": [
    "top_gross_genres = ['Sci-Fi', 'Adventure', 'Animation', 'Fantasy', 'Action', 'Family']\n",
    "\n",
    "top_gross_dict = {}\n",
    "\n",
    "for genre in top_gross_genres:\n",
    "    top_gross_dict[genre] = {'average_rating': df[df[genre] == True]['averagerating'].mean(),\n",
    "                           'number_movies': len(df[df[genre] == True])}"
   ]
  },
  {
   "cell_type": "code",
   "execution_count": 103,
   "metadata": {},
   "outputs": [
    {
     "data": {
      "image/png": "[encoded data removed]",
      "text/plain": [
       "<Figure size 432x720 with 1 Axes>"
      ]
     },
     "metadata": {
      "needs_background": "light"
     },
     "output_type": "display_data"
    }
   ],
   "source": [
    "# First sort the ratings dictionary\n",
    "sorted_top_genres = dict(sorted(top_gross_dict.items(), key=lambda item: item[1]['average_rating']))\n",
    "\n",
    "\n",
    "# From new sorted dictionary, make sorted lists for plotting\n",
    "ratings_sorted = [value['average_rating'] for key, value in sorted_top_genres.items()][::-1]\n",
    "genres_sorted = [key for key, value in sorted_top_genres.items()][::-1]\n",
    "\n",
    "# Normalize colormap for data range\n",
    "# Matplotlib normalize and ColorMap made this a very easy two liner\n",
    "norm = plt.Normalize(min(ratings_sorted)-1, max(ratings_sorted)+.5)\n",
    "colors = plt.cm.OrRd(norm(ratings_sorted))\n",
    "\n",
    "# Define plot\n",
    "fig, ax = plt.subplots(figsize=(6,10))\n",
    "\n",
    "\n",
    "# Draw plot\n",
    "sns.barplot(ratings_sorted, genres_sorted, palette = colors, orient='horizonatal')\n",
    "\n",
    "# Add a line to show the average rating for all movies.\n",
    "avg_rating = np.mean(df['averagerating'])\n",
    "plt.axvline(x=avg_rating, ymin=0, ymax=1, color='k')\n",
    "\n",
    "ax.tick_params(axis='x', labelrotation = 0)\n",
    "ax.set_xlabel('Rating')\n",
    "ax.set_ylabel('Genre')\n",
    "ax.set_title('Average Rating for Movies in a Genre');"
   ]
  },
  {
   "cell_type": "code",
   "execution_count": 104,
   "metadata": {},
   "outputs": [
    {
     "data": {
      "text/plain": [
       "Text(0, 0.5, 'Density')"
      ]
     },
     "execution_count": 104,
     "metadata": {},
     "output_type": "execute_result"
    },
    {
     "data": {
      "image/png": "[encoded data removed]",
      "text/plain": [
       "<Figure size 864x576 with 1 Axes>"
      ]
     },
     "metadata": {
      "needs_background": "light"
     },
     "output_type": "display_data"
    }
   ],
   "source": [
    "fig, ax = plt.subplots(figsize=(12,8))\n",
    "\n",
    "for genre in top_gross_genres:\n",
    "    # Subset to the genre\n",
    "    subset = df[df[genre] == True]\n",
    "    \n",
    "    # Draw the density plot\n",
    "    sns.distplot(subset['averagerating'], hist = False, kde = True,\n",
    "                 kde_kws = {'linewidth': 3},\n",
    "                 label = genre)\n",
    "    \n",
    "# Plot formatting\n",
    "plt.legend(prop={'size': 10}, title = 'Genre', ncol=3)\n",
    "plt.title('Distribution of Ratings by Genre')\n",
    "plt.xlabel('Average Rating')\n",
    "plt.ylabel('Density')"
   ]
  },
  {
   "cell_type": "markdown",
   "metadata": {},
   "source": [
    "## to above here"
   ]
  },
  {
   "cell_type": "markdown",
   "metadata": {},
   "source": [
    "### Recent Years\n",
    "\n",
    "My final question looks again at the gross and ratings for movies, but I am going to filter by the year they were released. We have seen over all time which movies have done the best, but now look at current trends.\n",
    "\n",
    "Will filter twice, first for movies in the past 10 years (2011 and greater), for the past 5 years (2016 and greater), and then for the last ~3 years (2018). Comparing these results to the all-time results from above may yeild different results that would be very important for a new movie studio to be aware of. Moving with the trends is an important part of making successful business decisions."
   ]
  },
  {
   "cell_type": "code",
   "execution_count": 122,
   "metadata": {},
   "outputs": [],
   "source": [
    "ten_years = df[df['year'] > 2011]\n",
    "five_years = df[df['year'] > 2016]\n",
    "three_years = df[df['year'] > 2018]"
   ]
  },
  {
   "cell_type": "code",
   "execution_count": 123,
   "metadata": {},
   "outputs": [],
   "source": [
    "to_remove = ['Adult', 'Game-Show', 'Reality-TV', 'Musical', 'News', 'Western']\n",
    "\n",
    "trimmed_genres = [x for x in list_of_genre_types if x not in to_remove]"
   ]
  },
  {
   "cell_type": "code",
   "execution_count": 124,
   "metadata": {},
   "outputs": [],
   "source": [
    "ten_dict = {}\n",
    "\n",
    "for genre in trimmed_genres:\n",
    "    ten_dict[genre] = {'average_gross': ten_years[ten_years[genre] == True]['domestic_gross'].mean(),\n",
    "                           'number_movies': len(ten_years[ten_years[genre] == True])}\n",
    "    \n",
    "five_dict = {}\n",
    "\n",
    "for genre in trimmed_genres:\n",
    "    five_dict[genre] = {'average_gross': five_years[five_years[genre] == True]['domestic_gross'].mean(),\n",
    "                           'number_movies': len(five_years[five_years[genre] == True])}\n",
    "\n",
    "three_dict = {}\n",
    "\n",
    "for genre in trimmed_genres:\n",
    "    three_dict[genre] = {'average_gross': three_years[three_years[genre] == True]['domestic_gross'].mean(),\n",
    "                           'number_movies': len(three_years[three_years[genre] == True])}"
   ]
  },
  {
   "cell_type": "code",
   "execution_count": 126,
   "metadata": {},
   "outputs": [
    {
     "data": {
      "image/png": "[encoded data removed]",
      "text/plain": [
       "<Figure size 432x720 with 1 Axes>"
      ]
     },
     "metadata": {
      "needs_background": "light"
     },
     "output_type": "display_data"
    }
   ],
   "source": [
    "# First sort the ratings dictionary\n",
    "gross_dict_sorted = dict(sorted(ten_dict.items(), key=lambda item: item[1]['average_gross']))\n",
    "\n",
    "\n",
    "# From new sorted dictionary, make sorted lists for plotting\n",
    "gross_sorted = [value['average_gross'] for key, value in gross_dict_sorted.items()][::-1]\n",
    "genres_sorted = [key for key, value in gross_dict_sorted.items()][::-1]\n",
    "\n",
    "# Normalize colormap for data range\n",
    "# Matplotlib normalize and ColorMap made this a very easy two liner\n",
    "norm = plt.Normalize(min(gross_sorted)-50000000, max(gross_sorted)+5000000)\n",
    "# The numbers added to the min and max here are to use the central values of the colormap scale.\n",
    "# When not trimmed, the low values are too light to be visible on the chart, so scale until it looks good.\n",
    "colors = plt.cm.BuPu(norm(gross_sorted))\n",
    "\n",
    "# Define plot\n",
    "fig, ax = plt.subplots(figsize=(6,10))\n",
    "\n",
    "\n",
    "# Draw plot\n",
    "sns.barplot(gross_sorted, genres_sorted, palette = colors, orient='horizonatal')\n",
    "\n",
    "# Add a line to show the average rating for all movies.\n",
    "avg_gross = np.mean(ten_years['domestic_gross'])\n",
    "plt.axvline(x=avg_gross, ymin=0, ymax=1, color='y', linestyle='--')\n",
    "\n",
    "# Set labels\n",
    "ax.tick_params(axis='x', labelrotation = 0)\n",
    "ax.set_xlabel('Gross (USD$)')\n",
    "ax.set_ylabel('Genre')\n",
    "ax.set_title('Avg Gross for Past 10 Years');"
   ]
  },
  {
   "cell_type": "code",
   "execution_count": 127,
   "metadata": {},
   "outputs": [
    {
     "data": {
      "image/png": "[encoded data removed]",
      "text/plain": [
       "<Figure size 432x720 with 1 Axes>"
      ]
     },
     "metadata": {
      "needs_background": "light"
     },
     "output_type": "display_data"
    }
   ],
   "source": [
    "# First sort the ratings dictionary\n",
    "gross_dict_sorted = dict(sorted(five_dict.items(), key=lambda item: item[1]['average_gross']))\n",
    "\n",
    "\n",
    "# From new sorted dictionary, make sorted lists for plotting\n",
    "gross_sorted = [value['average_gross'] for key, value in gross_dict_sorted.items()][::-1]\n",
    "genres_sorted = [key for key, value in gross_dict_sorted.items()][::-1]\n",
    "\n",
    "# Normalize colormap for data range\n",
    "# Matplotlib normalize and ColorMap made this a very easy two liner\n",
    "norm = plt.Normalize(min(gross_sorted)-50000000, max(gross_sorted)+5000000)\n",
    "# The numbers added to the min and max here are to use the central values of the colormap scale.\n",
    "# When not trimmed, the low values are too light to be visible on the chart, so scale until it looks good.\n",
    "colors = plt.cm.BuPu(norm(gross_sorted))\n",
    "\n",
    "# Define plot\n",
    "fig, ax = plt.subplots(figsize=(6,10))\n",
    "\n",
    "\n",
    "# Draw plot\n",
    "sns.barplot(gross_sorted, genres_sorted, palette = colors, orient='horizonatal')\n",
    "\n",
    "# Add a line to show the average rating for all movies.\n",
    "avg_gross = np.mean(five_years['domestic_gross'])\n",
    "plt.axvline(x=avg_gross, ymin=0, ymax=1, color='y', linestyle='--')\n",
    "\n",
    "# Set labels\n",
    "ax.tick_params(axis='x', labelrotation = 0)\n",
    "ax.set_xlabel('Rating')\n",
    "ax.set_ylabel('Genre')\n",
    "ax.set_title('Avg Gross for Past 5 Years');"
   ]
  },
  {
   "cell_type": "code",
   "execution_count": 120,
   "metadata": {},
   "outputs": [
    {
     "data": {
      "image/png": "[encoded data removed]",
      "text/plain": [
       "<Figure size 432x720 with 1 Axes>"
      ]
     },
     "metadata": {
      "needs_background": "light"
     },
     "output_type": "display_data"
    }
   ],
   "source": [
    "# First sort the ratings dictionary\n",
    "gross_dict_sorted = dict(sorted(three_dict.items(), key=lambda item: item[1]['average_gross']))\n",
    "\n",
    "\n",
    "# From new sorted dictionary, make sorted lists for plotting\n",
    "gross_sorted = [value['average_gross'] for key, value in gross_dict_sorted.items()][::-1]\n",
    "genres_sorted = [key for key, value in gross_dict_sorted.items()][::-1]\n",
    "\n",
    "# Normalize colormap for data range\n",
    "# Matplotlib normalize and ColorMap made this a very easy two liner\n",
    "norm = plt.Normalize(min(gross_sorted)-50000000, max(gross_sorted)+5000000)\n",
    "# The numbers added to the min and max here are to use the central values of the colormap scale.\n",
    "# When not trimmed, the low values are too light to be visible on the chart, so scale until it looks good.\n",
    "colors = plt.cm.BuPu(norm(gross_sorted))\n",
    "\n",
    "# Define plot\n",
    "fig, ax = plt.subplots(figsize=(6,10))\n",
    "\n",
    "\n",
    "# Draw plot\n",
    "sns.barplot(gross_sorted, genres_sorted, palette = colors, orient='horizonatal')\n",
    "\n",
    "# Add a line to show the average rating for all movies.\n",
    "avg_gross = np.mean(three_years['domestic_gross'])\n",
    "plt.axvline(x=avg_gross, ymin=0, ymax=1, color='y', linestyle='--')\n",
    "\n",
    "# Set labels\n",
    "ax.tick_params(axis='x', labelrotation = 0)\n",
    "ax.set_xlabel('Rating')\n",
    "ax.set_ylabel('Genre')\n",
    "ax.set_title('Avg Gross for Past 10 Years');"
   ]
  },
  {
   "cell_type": "markdown",
   "metadata": {},
   "source": [
    "Well it looks like our BOM data doesn't include any movies after 2018. That is unfortunate and would have been helpful information."
   ]
  },
  {
   "cell_type": "code",
   "execution_count": null,
   "metadata": {},
   "outputs": [],
   "source": []
  },
  {
   "cell_type": "code",
   "execution_count": null,
   "metadata": {},
   "outputs": [],
   "source": []
  },
  {
   "cell_type": "code",
   "execution_count": null,
   "metadata": {},
   "outputs": [],
   "source": []
  },
  {
   "cell_type": "code",
   "execution_count": null,
   "metadata": {},
   "outputs": [],
   "source": []
  },
  {
   "cell_type": "code",
   "execution_count": null,
   "metadata": {},
   "outputs": [],
   "source": []
  },
  {
   "cell_type": "code",
   "execution_count": null,
   "metadata": {},
   "outputs": [],
   "source": []
  },
  {
   "cell_type": "code",
   "execution_count": null,
   "metadata": {},
   "outputs": [],
   "source": []
  },
  {
   "cell_type": "code",
   "execution_count": null,
   "metadata": {},
   "outputs": [],
   "source": []
  },
  {
   "cell_type": "code",
   "execution_count": null,
   "metadata": {},
   "outputs": [],
   "source": []
  },
  {
   "cell_type": "code",
   "execution_count": null,
   "metadata": {},
   "outputs": [],
   "source": []
  },
  {
   "cell_type": "code",
   "execution_count": null,
   "metadata": {},
   "outputs": [],
   "source": []
  },
  {
   "cell_type": "code",
   "execution_count": null,
   "metadata": {},
   "outputs": [],
   "source": []
  },
  {
   "cell_type": "code",
   "execution_count": null,
   "metadata": {},
   "outputs": [],
   "source": []
  },
  {
   "cell_type": "code",
   "execution_count": null,
   "metadata": {},
   "outputs": [],
   "source": []
  }
 ],
 "metadata": {
  "kernelspec": {
   "display_name": "learn-env",
   "language": "python",
   "name": "learn-env"
  },
  "language_info": {
   "codemirror_mode": {
    "name": "ipython",
    "version": 3
   },
   "file_extension": ".py",
   "mimetype": "text/x-python",
   "name": "python",
   "nbconvert_exporter": "python",
   "pygments_lexer": "ipython3",
   "version": "3.8.8"
  }
 },
 "nbformat": 4,
 "nbformat_minor": 4
}
